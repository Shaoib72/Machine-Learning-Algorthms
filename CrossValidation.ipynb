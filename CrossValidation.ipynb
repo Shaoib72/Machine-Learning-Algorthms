{
 "cells": [
  {
   "cell_type": "code",
   "execution_count": 1,
   "id": "a2ad0a50-0618-4a52-82fe-e1b120d0ceaf",
   "metadata": {},
   "outputs": [],
   "source": [
    "import pandas as pd"
   ]
  },
  {
   "cell_type": "code",
   "execution_count": 2,
   "id": "d624c3be-e352-426b-88a6-2d27b547177b",
   "metadata": {},
   "outputs": [
    {
     "data": {
      "text/html": [
       "<div>\n",
       "<style scoped>\n",
       "    .dataframe tbody tr th:only-of-type {\n",
       "        vertical-align: middle;\n",
       "    }\n",
       "\n",
       "    .dataframe tbody tr th {\n",
       "        vertical-align: top;\n",
       "    }\n",
       "\n",
       "    .dataframe thead th {\n",
       "        text-align: right;\n",
       "    }\n",
       "</style>\n",
       "<table border=\"1\" class=\"dataframe\">\n",
       "  <thead>\n",
       "    <tr style=\"text-align: right;\">\n",
       "      <th></th>\n",
       "      <th>cgpa</th>\n",
       "      <th>iq</th>\n",
       "    </tr>\n",
       "  </thead>\n",
       "  <tbody>\n",
       "    <tr>\n",
       "      <th>0</th>\n",
       "      <td>5.13</td>\n",
       "      <td>88</td>\n",
       "    </tr>\n",
       "    <tr>\n",
       "      <th>1</th>\n",
       "      <td>5.90</td>\n",
       "      <td>113</td>\n",
       "    </tr>\n",
       "    <tr>\n",
       "      <th>2</th>\n",
       "      <td>8.36</td>\n",
       "      <td>93</td>\n",
       "    </tr>\n",
       "    <tr>\n",
       "      <th>3</th>\n",
       "      <td>8.27</td>\n",
       "      <td>97</td>\n",
       "    </tr>\n",
       "    <tr>\n",
       "      <th>4</th>\n",
       "      <td>5.45</td>\n",
       "      <td>110</td>\n",
       "    </tr>\n",
       "  </tbody>\n",
       "</table>\n",
       "</div>"
      ],
      "text/plain": [
       "   cgpa   iq\n",
       "0  5.13   88\n",
       "1  5.90  113\n",
       "2  8.36   93\n",
       "3  8.27   97\n",
       "4  5.45  110"
      ]
     },
     "execution_count": 2,
     "metadata": {},
     "output_type": "execute_result"
    }
   ],
   "source": [
    "dataset=pd.read_csv(r\"C:\\Users\\it solution\\Downloads\\Compressed\\archive (11)\\student_clustering.csv\")\n",
    "dataset.head(5)"
   ]
  },
  {
   "cell_type": "code",
   "execution_count": 3,
   "id": "0cb1c1cb-ed8c-475f-95f5-51836973b16b",
   "metadata": {},
   "outputs": [],
   "source": [
    "x=dataset.iloc[:, :-1]\n",
    "y=dataset[\"iq\"]"
   ]
  },
  {
   "cell_type": "code",
   "execution_count": 4,
   "id": "58aef81d-e1eb-41e2-bcae-7fdfd9bc7072",
   "metadata": {},
   "outputs": [],
   "source": [
    "new_dataset=dataset.head(10)"
   ]
  },
  {
   "cell_type": "code",
   "execution_count": 5,
   "id": "440b0c7a-7748-4d62-b7c9-a3d9c1114dbc",
   "metadata": {},
   "outputs": [],
   "source": [
    "x_new=new_dataset.iloc[:,:-1]\n",
    "y_new=new_dataset[\"iq\"]"
   ]
  },
  {
   "cell_type": "code",
   "execution_count": 6,
   "id": "c238a048-0d3b-4908-b656-63a7a733df13",
   "metadata": {},
   "outputs": [],
   "source": [
    "from sklearn.model_selection import LeaveOneOut, LeavePOut, KFold, StratifiedKFold"
   ]
  },
  {
   "cell_type": "code",
   "execution_count": 7,
   "id": "3fa21ee4-6f27-4031-9c53-da8c4d852f6f",
   "metadata": {},
   "outputs": [],
   "source": [
    "# must assign p value\n",
    "# lo=LeavePOut(p=1)\n",
    "# lo=KFold(n_splits=5)\\\n",
    "# This works on classified data\n",
    "# lo=StratifiedKFold(n_splits=5)\n",
    "# for train, test in lo.split(x_new,y_new):\n",
    "#     print(train, test)"
   ]
  },
  {
   "cell_type": "code",
   "execution_count": 8,
   "id": "8a7561f9-0929-455c-8109-d7b42bc9bbb7",
   "metadata": {},
   "outputs": [],
   "source": [
    "from sklearn.linear_model import LinearRegression"
   ]
  },
  {
   "cell_type": "code",
   "execution_count": 9,
   "id": "c1ceb86e-a990-48b2-bc8f-c2051e9013eb",
   "metadata": {},
   "outputs": [],
   "source": [
    "from sklearn.model_selection import cross_val_score"
   ]
  },
  {
   "cell_type": "code",
   "execution_count": null,
   "id": "26dea2fa-c8ac-474b-a6e7-836022c6e375",
   "metadata": {},
   "outputs": [],
   "source": [
    "cross_val_score(LinearRegression(), x,y, cv=LeavePOut(p=2))"
   ]
  },
  {
   "cell_type": "code",
   "execution_count": 19,
   "id": "63146cd3-b303-41bd-89ff-b4ec5de6ab92",
   "metadata": {},
   "outputs": [
    {
     "data": {
      "text/plain": [
       "array([-57.54631751,  28.36196385,  34.16805209,  12.56756919,\n",
       "        33.80760175,  39.81671798,  14.17304666,  46.9657922 ,\n",
       "        53.23121239,  11.04320585])"
      ]
     },
     "execution_count": 19,
     "metadata": {},
     "output_type": "execute_result"
    }
   ],
   "source": [
    "sc=cross_val_score(LinearRegression(), x, y, cv=KFold(n_splits=10))\n",
    "sc*100"
   ]
  },
  {
   "cell_type": "code",
   "execution_count": 18,
   "id": "0ef22d7a-b598-4171-b2ae-b86edf0813bd",
   "metadata": {},
   "outputs": [],
   "source": []
  },
  {
   "cell_type": "code",
   "execution_count": null,
   "id": "1da93c7e-f92c-4b14-906f-4492e61020a4",
   "metadata": {},
   "outputs": [],
   "source": []
  }
 ],
 "metadata": {
  "kernelspec": {
   "display_name": "Python 3 (ipykernel)",
   "language": "python",
   "name": "python3"
  },
  "language_info": {
   "codemirror_mode": {
    "name": "ipython",
    "version": 3
   },
   "file_extension": ".py",
   "mimetype": "text/x-python",
   "name": "python",
   "nbconvert_exporter": "python",
   "pygments_lexer": "ipython3",
   "version": "3.11.5"
  }
 },
 "nbformat": 4,
 "nbformat_minor": 5
}
