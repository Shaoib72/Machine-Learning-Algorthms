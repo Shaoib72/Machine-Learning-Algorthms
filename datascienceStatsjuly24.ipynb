{
 "cells": [
  {
   "cell_type": "code",
   "execution_count": 1,
   "id": "251aebf3-ebb2-4bc8-9fc6-b395bff4bd38",
   "metadata": {},
   "outputs": [],
   "source": [
    "import numpy as np\n",
    "import pandas as pd\n",
    "import matplotlib.pyplot as plt\n",
    "import seaborn as sns"
   ]
  },
  {
   "cell_type": "markdown",
   "id": "5ef98d60-fe3a-4089-87ca-ac282476afc6",
   "metadata": {},
   "source": [
    "# Measurement of Central Tedency"
   ]
  },
  {
   "cell_type": "code",
   "execution_count": 2,
   "id": "02c60a2c-8b15-4c34-9dd6-eddcafe83563",
   "metadata": {},
   "outputs": [],
   "source": [
    "ar=np.array([4,5,3,7,8,6,7,3,9,2])"
   ]
  },
  {
   "cell_type": "code",
   "execution_count": 3,
   "id": "3914061c-351e-4e56-81bf-c4c5935240f4",
   "metadata": {},
   "outputs": [
    {
     "data": {
      "text/plain": [
       "54"
      ]
     },
     "execution_count": 3,
     "metadata": {},
     "output_type": "execute_result"
    }
   ],
   "source": [
    "np.sum(ar)"
   ]
  },
  {
   "cell_type": "code",
   "execution_count": 4,
   "id": "bf14a7f5-5ad6-46c1-8a52-5aac4981564b",
   "metadata": {},
   "outputs": [
    {
     "data": {
      "text/plain": [
       "10"
      ]
     },
     "execution_count": 4,
     "metadata": {},
     "output_type": "execute_result"
    }
   ],
   "source": [
    "len(ar)"
   ]
  },
  {
   "cell_type": "code",
   "execution_count": 5,
   "id": "5e8dc3e5-1e85-49dc-9c2a-95baf01b2c09",
   "metadata": {},
   "outputs": [
    {
     "data": {
      "text/plain": [
       "5.4"
      ]
     },
     "execution_count": 5,
     "metadata": {},
     "output_type": "execute_result"
    }
   ],
   "source": [
    "np.sum(ar)/len(ar)"
   ]
  },
  {
   "cell_type": "code",
   "execution_count": 6,
   "id": "cf8a73aa-2876-4112-8dd1-de23b92a8c5b",
   "metadata": {},
   "outputs": [
    {
     "data": {
      "text/plain": [
       "5.4"
      ]
     },
     "execution_count": 6,
     "metadata": {},
     "output_type": "execute_result"
    }
   ],
   "source": [
    "np.mean(ar)"
   ]
  },
  {
   "cell_type": "code",
   "execution_count": 7,
   "id": "5f5f4e1e-0c13-4cd6-a6e5-67c144b2d1d4",
   "metadata": {},
   "outputs": [],
   "source": [
    "dataset=pd.read_csv(\"titanic.csv\")"
   ]
  },
  {
   "cell_type": "code",
   "execution_count": 8,
   "id": "ed87d469-124d-4079-a07d-cdea85cf181f",
   "metadata": {},
   "outputs": [
    {
     "data": {
      "text/plain": [
       "PassengerId      0\n",
       "Survived         0\n",
       "Pclass           0\n",
       "Name             0\n",
       "Sex              0\n",
       "Age            177\n",
       "SibSp            0\n",
       "Parch            0\n",
       "Ticket           0\n",
       "Fare             0\n",
       "Cabin          687\n",
       "Embarked         2\n",
       "dtype: int64"
      ]
     },
     "execution_count": 8,
     "metadata": {},
     "output_type": "execute_result"
    }
   ],
   "source": [
    "dataset.isnull().sum()"
   ]
  },
  {
   "cell_type": "code",
   "execution_count": 9,
   "id": "6b90d230-065b-4492-989a-1f6bfd1d17e3",
   "metadata": {},
   "outputs": [
    {
     "data": {
      "text/html": [
       "<div>\n",
       "<style scoped>\n",
       "    .dataframe tbody tr th:only-of-type {\n",
       "        vertical-align: middle;\n",
       "    }\n",
       "\n",
       "    .dataframe tbody tr th {\n",
       "        vertical-align: top;\n",
       "    }\n",
       "\n",
       "    .dataframe thead th {\n",
       "        text-align: right;\n",
       "    }\n",
       "</style>\n",
       "<table border=\"1\" class=\"dataframe\">\n",
       "  <thead>\n",
       "    <tr style=\"text-align: right;\">\n",
       "      <th></th>\n",
       "      <th>PassengerId</th>\n",
       "      <th>Survived</th>\n",
       "      <th>Pclass</th>\n",
       "      <th>Name</th>\n",
       "      <th>Sex</th>\n",
       "      <th>Age</th>\n",
       "      <th>SibSp</th>\n",
       "      <th>Parch</th>\n",
       "      <th>Ticket</th>\n",
       "      <th>Fare</th>\n",
       "      <th>Cabin</th>\n",
       "      <th>Embarked</th>\n",
       "    </tr>\n",
       "  </thead>\n",
       "  <tbody>\n",
       "    <tr>\n",
       "      <th>0</th>\n",
       "      <td>1</td>\n",
       "      <td>0</td>\n",
       "      <td>3</td>\n",
       "      <td>Braund, Mr. Owen Harris</td>\n",
       "      <td>male</td>\n",
       "      <td>22.0</td>\n",
       "      <td>1</td>\n",
       "      <td>0</td>\n",
       "      <td>A/5 21171</td>\n",
       "      <td>7.2500</td>\n",
       "      <td>NaN</td>\n",
       "      <td>S</td>\n",
       "    </tr>\n",
       "    <tr>\n",
       "      <th>1</th>\n",
       "      <td>2</td>\n",
       "      <td>1</td>\n",
       "      <td>1</td>\n",
       "      <td>Cumings, Mrs. John Bradley (Florence Briggs Th...</td>\n",
       "      <td>female</td>\n",
       "      <td>38.0</td>\n",
       "      <td>1</td>\n",
       "      <td>0</td>\n",
       "      <td>PC 17599</td>\n",
       "      <td>71.2833</td>\n",
       "      <td>C85</td>\n",
       "      <td>C</td>\n",
       "    </tr>\n",
       "  </tbody>\n",
       "</table>\n",
       "</div>"
      ],
      "text/plain": [
       "   PassengerId  Survived  Pclass  \\\n",
       "0            1         0       3   \n",
       "1            2         1       1   \n",
       "\n",
       "                                                Name     Sex   Age  SibSp  \\\n",
       "0                            Braund, Mr. Owen Harris    male  22.0      1   \n",
       "1  Cumings, Mrs. John Bradley (Florence Briggs Th...  female  38.0      1   \n",
       "\n",
       "   Parch     Ticket     Fare Cabin Embarked  \n",
       "0      0  A/5 21171   7.2500   NaN        S  \n",
       "1      0   PC 17599  71.2833   C85        C  "
      ]
     },
     "execution_count": 9,
     "metadata": {},
     "output_type": "execute_result"
    }
   ],
   "source": [
    "dataset.head(2)"
   ]
  },
  {
   "cell_type": "code",
   "execution_count": 10,
   "id": "5fb18eb1-bd07-46ca-8a2f-c8c1c3d31390",
   "metadata": {},
   "outputs": [],
   "source": [
    "# dataset['Age'].fillna(dataset['Age'].mean(),inplace=True)"
   ]
  },
  {
   "cell_type": "code",
   "execution_count": 11,
   "id": "c748ca2b-7b3c-4270-a19e-9344011e46d8",
   "metadata": {},
   "outputs": [
    {
     "data": {
      "text/plain": [
       "PassengerId      0\n",
       "Survived         0\n",
       "Pclass           0\n",
       "Name             0\n",
       "Sex              0\n",
       "Age            177\n",
       "SibSp            0\n",
       "Parch            0\n",
       "Ticket           0\n",
       "Fare             0\n",
       "Cabin          687\n",
       "Embarked         2\n",
       "dtype: int64"
      ]
     },
     "execution_count": 11,
     "metadata": {},
     "output_type": "execute_result"
    }
   ],
   "source": [
    "dataset.isnull().sum()"
   ]
  },
  {
   "cell_type": "code",
   "execution_count": 12,
   "id": "7d686029-9503-4e05-af11-df0a056e8d16",
   "metadata": {},
   "outputs": [
    {
     "data": {
      "text/html": [
       "<div>\n",
       "<style scoped>\n",
       "    .dataframe tbody tr th:only-of-type {\n",
       "        vertical-align: middle;\n",
       "    }\n",
       "\n",
       "    .dataframe tbody tr th {\n",
       "        vertical-align: top;\n",
       "    }\n",
       "\n",
       "    .dataframe thead th {\n",
       "        text-align: right;\n",
       "    }\n",
       "</style>\n",
       "<table border=\"1\" class=\"dataframe\">\n",
       "  <thead>\n",
       "    <tr style=\"text-align: right;\">\n",
       "      <th></th>\n",
       "      <th>PassengerId</th>\n",
       "      <th>Survived</th>\n",
       "      <th>Pclass</th>\n",
       "      <th>Name</th>\n",
       "      <th>Sex</th>\n",
       "      <th>Age</th>\n",
       "      <th>SibSp</th>\n",
       "      <th>Parch</th>\n",
       "      <th>Ticket</th>\n",
       "      <th>Fare</th>\n",
       "      <th>Cabin</th>\n",
       "      <th>Embarked</th>\n",
       "    </tr>\n",
       "  </thead>\n",
       "  <tbody>\n",
       "    <tr>\n",
       "      <th>0</th>\n",
       "      <td>1</td>\n",
       "      <td>0</td>\n",
       "      <td>3</td>\n",
       "      <td>Braund, Mr. Owen Harris</td>\n",
       "      <td>male</td>\n",
       "      <td>22.0</td>\n",
       "      <td>1</td>\n",
       "      <td>0</td>\n",
       "      <td>A/5 21171</td>\n",
       "      <td>7.2500</td>\n",
       "      <td>NaN</td>\n",
       "      <td>S</td>\n",
       "    </tr>\n",
       "    <tr>\n",
       "      <th>1</th>\n",
       "      <td>2</td>\n",
       "      <td>1</td>\n",
       "      <td>1</td>\n",
       "      <td>Cumings, Mrs. John Bradley (Florence Briggs Th...</td>\n",
       "      <td>female</td>\n",
       "      <td>38.0</td>\n",
       "      <td>1</td>\n",
       "      <td>0</td>\n",
       "      <td>PC 17599</td>\n",
       "      <td>71.2833</td>\n",
       "      <td>C85</td>\n",
       "      <td>C</td>\n",
       "    </tr>\n",
       "  </tbody>\n",
       "</table>\n",
       "</div>"
      ],
      "text/plain": [
       "   PassengerId  Survived  Pclass  \\\n",
       "0            1         0       3   \n",
       "1            2         1       1   \n",
       "\n",
       "                                                Name     Sex   Age  SibSp  \\\n",
       "0                            Braund, Mr. Owen Harris    male  22.0      1   \n",
       "1  Cumings, Mrs. John Bradley (Florence Briggs Th...  female  38.0      1   \n",
       "\n",
       "   Parch     Ticket     Fare Cabin Embarked  \n",
       "0      0  A/5 21171   7.2500   NaN        S  \n",
       "1      0   PC 17599  71.2833   C85        C  "
      ]
     },
     "execution_count": 12,
     "metadata": {},
     "output_type": "execute_result"
    }
   ],
   "source": [
    "dataset.head(2)"
   ]
  },
  {
   "cell_type": "code",
   "execution_count": 13,
   "id": "d48bdb77-521b-4888-bcac-a985245c7e53",
   "metadata": {},
   "outputs": [
    {
     "data": {
      "text/plain": [
       "29.69911764705882"
      ]
     },
     "execution_count": 13,
     "metadata": {},
     "output_type": "execute_result"
    }
   ],
   "source": [
    "dataset['Age'].mean()"
   ]
  },
  {
   "cell_type": "code",
   "execution_count": 14,
   "id": "306b5498-f316-477d-91ce-6aee177821e3",
   "metadata": {},
   "outputs": [],
   "source": [
    "md=np.median(dataset['Fare'])"
   ]
  },
  {
   "cell_type": "code",
   "execution_count": 15,
   "id": "e03f1642-02d6-43e5-9465-8e43f73b3f20",
   "metadata": {},
   "outputs": [],
   "source": [
    "mo=dataset['Fare'].mode()[0]"
   ]
  },
  {
   "cell_type": "code",
   "execution_count": 16,
   "id": "9dff8eb9-51cf-440a-be58-6023b716817b",
   "metadata": {},
   "outputs": [],
   "source": [
    "mn=np.mean(dataset['Fare'])"
   ]
  },
  {
   "cell_type": "code",
   "execution_count": 18,
   "id": "49dd6f0b-9b4f-435b-8c9b-65005725a71e",
   "metadata": {},
   "outputs": [],
   "source": [
    "# MEAN ABSOLUTE DEVIATION\n",
    "sec_a=np.array([75,65,70,65,70,75])\n",
    "sec_b=np.array([90,47,43,96,93,51])\n",
    "no=np.array([1,2,3,4,5,6])"
   ]
  },
  {
   "cell_type": "code",
   "execution_count": 17,
   "id": "565b4f06-4405-4b96-9e3d-ba47949c64ae",
   "metadata": {
    "scrolled": true
   },
   "outputs": [
    {
     "data": {
      "image/png": "[encoded data removed]",
      "text/plain": [
       "<Figure size 640x480 with 1 Axes>"
      ]
     },
     "metadata": {},
     "output_type": "display_data"
    }
   ],
   "source": [
    "sns.histplot(x=\"Fare\", data=dataset, bins=[i for i in range(0,80,10)])\n",
    "plt.plot([mn for i in range(0,1000)], [i for i in range(0, 1000)], c=\"red\", label=\"Mean\")\n",
    "plt.plot([md for i in range(0,1000)], [i for i in range(0, 1000)], c=\"green\", label=\"Median\")\n",
    "plt.plot([mo for i in range(0,1000)], [i for i in range(0, 1000)], c=\"blue\", label=\"Mode\")\n",
    "plt.legend()\n",
    "plt.show()"
   ]
  },
  {
   "cell_type": "markdown",
   "id": "fd097206-084a-4939-a9b3-b3a77297bddd",
   "metadata": {},
   "source": [
    "# Measurement of variability"
   ]
  },
  {
   "cell_type": "code",
   "execution_count": 19,
   "id": "90abe865-cb46-401a-850a-5def760af2e1",
   "metadata": {},
   "outputs": [],
   "source": [
    "mean=np.mean(sec_b)"
   ]
  },
  {
   "cell_type": "code",
   "execution_count": 20,
   "id": "ff8dd19d-2b90-4be7-a97f-a0cc8a81ee2d",
   "metadata": {},
   "outputs": [
    {
     "data": {
      "text/plain": [
       "70.0"
      ]
     },
     "execution_count": 20,
     "metadata": {},
     "output_type": "execute_result"
    }
   ],
   "source": [
    "mean"
   ]
  },
  {
   "cell_type": "code",
   "execution_count": 21,
   "id": "d489309d-ddd0-4f63-87f1-987b99e6bb84",
   "metadata": {},
   "outputs": [],
   "source": [
    "mad_a=np.sum(abs(sec_a-mean))/len(sec_a)\n",
    "mad_b=np.sum(abs(sec_b-mean))/len(sec_b)"
   ]
  },
  {
   "cell_type": "code",
   "execution_count": 22,
   "id": "376f4e4b-e5d5-4867-9c8a-1145da6e66b8",
   "metadata": {},
   "outputs": [
    {
     "data": {
      "text/plain": [
       "(3.3333333333333335, 23.0)"
      ]
     },
     "execution_count": 22,
     "metadata": {},
     "output_type": "execute_result"
    }
   ],
   "source": [
    "mad_a, mad_b"
   ]
  },
  {
   "cell_type": "code",
   "execution_count": 23,
   "id": "99f0a1da-c1ca-475b-b4a9-b87ee1c2f4ca",
   "metadata": {},
   "outputs": [
    {
     "data": {
      "text/plain": [
       "(4.08248290463863, 23.18045153428495, 16.666666666666668, 537.3333333333334)"
      ]
     },
     "execution_count": 23,
     "metadata": {},
     "output_type": "execute_result"
    }
   ],
   "source": [
    "sec_a.std(), sec_b.std(), sec_a.var(), sec_b.var()"
   ]
  },
  {
   "cell_type": "code",
   "execution_count": 24,
   "id": "8dc0f31e-280b-49a9-b390-be806645c970",
   "metadata": {},
   "outputs": [
    {
     "data": {
      "text/plain": [
       "PassengerId      0\n",
       "Survived         0\n",
       "Pclass           0\n",
       "Name             0\n",
       "Sex              0\n",
       "Age            177\n",
       "SibSp            0\n",
       "Parch            0\n",
       "Ticket           0\n",
       "Fare             0\n",
       "Cabin          687\n",
       "Embarked         2\n",
       "dtype: int64"
      ]
     },
     "execution_count": 24,
     "metadata": {},
     "output_type": "execute_result"
    }
   ],
   "source": [
    "# INTERQUARTILE RANGE\n",
    "dataset.isnull().sum()"
   ]
  },
  {
   "cell_type": "code",
   "execution_count": 25,
   "id": "4d25d060-9798-4bbb-bbae-c0a3bef0d8d4",
   "metadata": {},
   "outputs": [
    {
     "data": {
      "text/plain": [
       "(nan, nan)"
      ]
     },
     "execution_count": 25,
     "metadata": {},
     "output_type": "execute_result"
    }
   ],
   "source": [
    "np.percentile(dataset['Age'],0), np.percentile(dataset['Age'],50)"
   ]
  },
  {
   "cell_type": "code",
   "execution_count": 26,
   "id": "b0c9556a-9e59-476a-8cf2-4a34181f28ae",
   "metadata": {},
   "outputs": [
    {
     "data": {
      "text/plain": [
       "28.0"
      ]
     },
     "execution_count": 26,
     "metadata": {},
     "output_type": "execute_result"
    }
   ],
   "source": [
    "dataset['Age'].median()"
   ]
  },
  {
   "cell_type": "code",
   "execution_count": 27,
   "id": "3f0f8910-e509-452a-a3cd-a0cacc05a387",
   "metadata": {},
   "outputs": [
    {
     "data": {
      "text/html": [
       "<div>\n",
       "<style scoped>\n",
       "    .dataframe tbody tr th:only-of-type {\n",
       "        vertical-align: middle;\n",
       "    }\n",
       "\n",
       "    .dataframe tbody tr th {\n",
       "        vertical-align: top;\n",
       "    }\n",
       "\n",
       "    .dataframe thead th {\n",
       "        text-align: right;\n",
       "    }\n",
       "</style>\n",
       "<table border=\"1\" class=\"dataframe\">\n",
       "  <thead>\n",
       "    <tr style=\"text-align: right;\">\n",
       "      <th></th>\n",
       "      <th>PassengerId</th>\n",
       "      <th>Survived</th>\n",
       "      <th>Pclass</th>\n",
       "      <th>Age</th>\n",
       "      <th>SibSp</th>\n",
       "      <th>Parch</th>\n",
       "      <th>Fare</th>\n",
       "    </tr>\n",
       "  </thead>\n",
       "  <tbody>\n",
       "    <tr>\n",
       "      <th>count</th>\n",
       "      <td>891.000000</td>\n",
       "      <td>891.000000</td>\n",
       "      <td>891.000000</td>\n",
       "      <td>714.000000</td>\n",
       "      <td>891.000000</td>\n",
       "      <td>891.000000</td>\n",
       "      <td>891.000000</td>\n",
       "    </tr>\n",
       "    <tr>\n",
       "      <th>mean</th>\n",
       "      <td>446.000000</td>\n",
       "      <td>0.383838</td>\n",
       "      <td>2.308642</td>\n",
       "      <td>29.699118</td>\n",
       "      <td>0.523008</td>\n",
       "      <td>0.381594</td>\n",
       "      <td>32.204208</td>\n",
       "    </tr>\n",
       "    <tr>\n",
       "      <th>std</th>\n",
       "      <td>257.353842</td>\n",
       "      <td>0.486592</td>\n",
       "      <td>0.836071</td>\n",
       "      <td>14.526497</td>\n",
       "      <td>1.102743</td>\n",
       "      <td>0.806057</td>\n",
       "      <td>49.693429</td>\n",
       "    </tr>\n",
       "    <tr>\n",
       "      <th>min</th>\n",
       "      <td>1.000000</td>\n",
       "      <td>0.000000</td>\n",
       "      <td>1.000000</td>\n",
       "      <td>0.420000</td>\n",
       "      <td>0.000000</td>\n",
       "      <td>0.000000</td>\n",
       "      <td>0.000000</td>\n",
       "    </tr>\n",
       "    <tr>\n",
       "      <th>25%</th>\n",
       "      <td>223.500000</td>\n",
       "      <td>0.000000</td>\n",
       "      <td>2.000000</td>\n",
       "      <td>20.125000</td>\n",
       "      <td>0.000000</td>\n",
       "      <td>0.000000</td>\n",
       "      <td>7.910400</td>\n",
       "    </tr>\n",
       "    <tr>\n",
       "      <th>50%</th>\n",
       "      <td>446.000000</td>\n",
       "      <td>0.000000</td>\n",
       "      <td>3.000000</td>\n",
       "      <td>28.000000</td>\n",
       "      <td>0.000000</td>\n",
       "      <td>0.000000</td>\n",
       "      <td>14.454200</td>\n",
       "    </tr>\n",
       "    <tr>\n",
       "      <th>75%</th>\n",
       "      <td>668.500000</td>\n",
       "      <td>1.000000</td>\n",
       "      <td>3.000000</td>\n",
       "      <td>38.000000</td>\n",
       "      <td>1.000000</td>\n",
       "      <td>0.000000</td>\n",
       "      <td>31.000000</td>\n",
       "    </tr>\n",
       "    <tr>\n",
       "      <th>max</th>\n",
       "      <td>891.000000</td>\n",
       "      <td>1.000000</td>\n",
       "      <td>3.000000</td>\n",
       "      <td>80.000000</td>\n",
       "      <td>8.000000</td>\n",
       "      <td>6.000000</td>\n",
       "      <td>512.329200</td>\n",
       "    </tr>\n",
       "  </tbody>\n",
       "</table>\n",
       "</div>"
      ],
      "text/plain": [
       "       PassengerId    Survived      Pclass         Age       SibSp  \\\n",
       "count   891.000000  891.000000  891.000000  714.000000  891.000000   \n",
       "mean    446.000000    0.383838    2.308642   29.699118    0.523008   \n",
       "std     257.353842    0.486592    0.836071   14.526497    1.102743   \n",
       "min       1.000000    0.000000    1.000000    0.420000    0.000000   \n",
       "25%     223.500000    0.000000    2.000000   20.125000    0.000000   \n",
       "50%     446.000000    0.000000    3.000000   28.000000    0.000000   \n",
       "75%     668.500000    1.000000    3.000000   38.000000    1.000000   \n",
       "max     891.000000    1.000000    3.000000   80.000000    8.000000   \n",
       "\n",
       "            Parch        Fare  \n",
       "count  891.000000  891.000000  \n",
       "mean     0.381594   32.204208  \n",
       "std      0.806057   49.693429  \n",
       "min      0.000000    0.000000  \n",
       "25%      0.000000    7.910400  \n",
       "50%      0.000000   14.454200  \n",
       "75%      0.000000   31.000000  \n",
       "max      6.000000  512.329200  "
      ]
     },
     "execution_count": 27,
     "metadata": {},
     "output_type": "execute_result"
    }
   ],
   "source": [
    "dataset.describe()"
   ]
  },
  {
   "cell_type": "code",
   "execution_count": 28,
   "id": "f14bfca2-e2e3-4e8d-befe-b51078b82f1c",
   "metadata": {},
   "outputs": [],
   "source": [
    "max=dataset['Age'].max()\n",
    "min=dataset['Age'].min()"
   ]
  },
  {
   "cell_type": "code",
   "execution_count": 30,
   "id": "7d96239b-3112-418c-809e-cc091f95a46c",
   "metadata": {},
   "outputs": [
    {
     "data": {
      "text/plain": [
       "79.58"
      ]
     },
     "execution_count": 30,
     "metadata": {},
     "output_type": "execute_result"
    }
   ],
   "source": [
    "max-min"
   ]
  },
  {
   "cell_type": "code",
   "execution_count": null,
   "id": "b30d6ed0-4d75-431f-aa7b-c41065416245",
   "metadata": {},
   "outputs": [],
   "source": []
  },
  {
   "cell_type": "code",
   "execution_count": null,
   "id": "2e779fc6-12c3-4104-a582-c8a2c0e6f3a4",
   "metadata": {},
   "outputs": [],
   "source": []
  },
  {
   "cell_type": "code",
   "execution_count": null,
   "id": "d5741acb-d396-4df7-97c0-c28b7178f111",
   "metadata": {},
   "outputs": [],
   "source": []
  },
  {
   "cell_type": "code",
   "execution_count": null,
   "id": "9fa39794-9e49-4758-ae1e-ab5a4c25ee8a",
   "metadata": {},
   "outputs": [],
   "source": []
  },
  {
   "cell_type": "code",
   "execution_count": 28,
   "id": "1ffbeb21-67aa-4fca-a814-3d85d084b9ec",
   "metadata": {},
   "outputs": [
    {
     "data": {
      "image/png": "[encoded data removed]",
      "text/plain": [
       "<Figure size 640x480 with 1 Axes>"
      ]
     },
     "metadata": {},
     "output_type": "display_data"
    }
   ],
   "source": [
    "sns.boxplot(x='Age', data=dataset)\n",
    "plt.show()"
   ]
  },
  {
   "cell_type": "code",
   "execution_count": 29,
   "id": "bb848f68-b3a5-464a-b5e3-fb72900263aa",
   "metadata": {},
   "outputs": [
    {
     "data": {
      "text/plain": [
       "<Axes: xlabel='Fare'>"
      ]
     },
     "execution_count": 29,
     "metadata": {},
     "output_type": "execute_result"
    },
    {
     "data": {
      "image/png": "[encoded data removed]",
      "text/plain": [
       "<Figure size 640x480 with 1 Axes>"
      ]
     },
     "metadata": {},
     "output_type": "display_data"
    }
   ],
   "source": [
    "sns.boxplot(x='Fare', data=dataset)"
   ]
  },
  {
   "cell_type": "code",
   "execution_count": 30,
   "id": "ecef6e11-6449-4e58-87e6-b8c1edfa80df",
   "metadata": {},
   "outputs": [
    {
     "data": {
      "image/png": "[encoded data removed]",
      "text/plain": [
       "<Figure size 640x480 with 1 Axes>"
      ]
     },
     "metadata": {},
     "output_type": "display_data"
    }
   ],
   "source": [
    "sns.histplot(x=\"Age\", data=dataset)\n",
    "plt.show()"
   ]
  },
  {
   "cell_type": "code",
   "execution_count": 31,
   "id": "43d17160-c24f-4f25-8322-a37f14964888",
   "metadata": {},
   "outputs": [
    {
     "data": {
      "text/plain": [
       "(24.0, 28.0, 29.69911764705882)"
      ]
     },
     "execution_count": 31,
     "metadata": {},
     "output_type": "execute_result"
    }
   ],
   "source": [
    "dataset['Age'].mode()[0], dataset['Age'].median(), dataset['Age'].mean()"
   ]
  },
  {
   "cell_type": "code",
   "execution_count": 32,
   "id": "e5f120fb-f50f-444c-8d83-ccd5d036e19c",
   "metadata": {},
   "outputs": [],
   "source": [
    "# NO SKEW CHART\n",
    "data=[2,3,3,4,4,4,5,5,5,5,6,6,6,6,6,7,7,7,7,7,7,8,8,8,8,8,9,9,9,9,10,10,10,11,11,12]"
   ]
  },
  {
   "cell_type": "code",
   "execution_count": 33,
   "id": "4b54d13b-2605-4760-ba42-28c9d362b3bc",
   "metadata": {},
   "outputs": [],
   "source": [
    "df=pd.DataFrame({'x':data})\n",
    "# df"
   ]
  },
  {
   "cell_type": "code",
   "execution_count": 34,
   "id": "0ad23b21-ee04-433e-8597-c06d47c824a0",
   "metadata": {},
   "outputs": [
    {
     "data": {
      "text/plain": [
       "0.0"
      ]
     },
     "execution_count": 34,
     "metadata": {},
     "output_type": "execute_result"
    }
   ],
   "source": [
    "df['x'].skew()"
   ]
  },
  {
   "cell_type": "code",
   "execution_count": 35,
   "id": "680dab21-267b-4a77-8745-009749ffe47b",
   "metadata": {},
   "outputs": [
    {
     "data": {
      "text/plain": [
       "(7.0, 7.0, 7)"
      ]
     },
     "execution_count": 35,
     "metadata": {},
     "output_type": "execute_result"
    }
   ],
   "source": [
    "df['x'].mean(), df['x'].median(), df['x'].mode()[0]"
   ]
  },
  {
   "cell_type": "code",
   "execution_count": 36,
   "id": "2c76b1e0-7b60-4154-a24f-f2b6eddb3060",
   "metadata": {},
   "outputs": [
    {
     "data": {
      "image/png": "[encoded data removed]",
      "text/plain": [
       "<Figure size 640x480 with 1 Axes>"
      ]
     },
     "metadata": {},
     "output_type": "display_data"
    }
   ],
   "source": [
    "sns.histplot(x='x', data=df, bins=[2,3,4,5,6,7,8,9,10,11,12,13])\n",
    "plt.show()"
   ]
  },
  {
   "cell_type": "code",
   "execution_count": 37,
   "id": "93ad327c-5c2a-48fc-ad82-9bc5c0c6836a",
   "metadata": {},
   "outputs": [],
   "source": [
    "data=np.random.normal(0,100,100)\n"
   ]
  },
  {
   "cell_type": "code",
   "execution_count": 38,
   "id": "a3c2f0b4-e302-478e-8a5a-36a94e293c59",
   "metadata": {},
   "outputs": [
    {
     "data": {
      "text/html": [
       "<div>\n",
       "<style scoped>\n",
       "    .dataframe tbody tr th:only-of-type {\n",
       "        vertical-align: middle;\n",
       "    }\n",
       "\n",
       "    .dataframe tbody tr th {\n",
       "        vertical-align: top;\n",
       "    }\n",
       "\n",
       "    .dataframe thead th {\n",
       "        text-align: right;\n",
       "    }\n",
       "</style>\n",
       "<table border=\"1\" class=\"dataframe\">\n",
       "  <thead>\n",
       "    <tr style=\"text-align: right;\">\n",
       "      <th></th>\n",
       "      <th>x</th>\n",
       "    </tr>\n",
       "  </thead>\n",
       "  <tbody>\n",
       "    <tr>\n",
       "      <th>0</th>\n",
       "      <td>-179.952482</td>\n",
       "    </tr>\n",
       "    <tr>\n",
       "      <th>1</th>\n",
       "      <td>19.128719</td>\n",
       "    </tr>\n",
       "    <tr>\n",
       "      <th>2</th>\n",
       "      <td>37.061560</td>\n",
       "    </tr>\n",
       "    <tr>\n",
       "      <th>3</th>\n",
       "      <td>147.657647</td>\n",
       "    </tr>\n",
       "    <tr>\n",
       "      <th>4</th>\n",
       "      <td>162.451218</td>\n",
       "    </tr>\n",
       "    <tr>\n",
       "      <th>...</th>\n",
       "      <td>...</td>\n",
       "    </tr>\n",
       "    <tr>\n",
       "      <th>95</th>\n",
       "      <td>34.661080</td>\n",
       "    </tr>\n",
       "    <tr>\n",
       "      <th>96</th>\n",
       "      <td>-128.432309</td>\n",
       "    </tr>\n",
       "    <tr>\n",
       "      <th>97</th>\n",
       "      <td>94.961541</td>\n",
       "    </tr>\n",
       "    <tr>\n",
       "      <th>98</th>\n",
       "      <td>20.622701</td>\n",
       "    </tr>\n",
       "    <tr>\n",
       "      <th>99</th>\n",
       "      <td>-92.415770</td>\n",
       "    </tr>\n",
       "  </tbody>\n",
       "</table>\n",
       "<p>100 rows × 1 columns</p>\n",
       "</div>"
      ],
      "text/plain": [
       "             x\n",
       "0  -179.952482\n",
       "1    19.128719\n",
       "2    37.061560\n",
       "3   147.657647\n",
       "4   162.451218\n",
       "..         ...\n",
       "95   34.661080\n",
       "96 -128.432309\n",
       "97   94.961541\n",
       "98   20.622701\n",
       "99  -92.415770\n",
       "\n",
       "[100 rows x 1 columns]"
      ]
     },
     "execution_count": 38,
     "metadata": {},
     "output_type": "execute_result"
    }
   ],
   "source": [
    "df=pd.DataFrame({'x':data})\n",
    "df"
   ]
  },
  {
   "cell_type": "code",
   "execution_count": 39,
   "id": "ce687b58-ca86-415f-9c0a-9243f4ebea13",
   "metadata": {},
   "outputs": [
    {
     "data": {
      "text/plain": [
       "0.27428946965502865"
      ]
     },
     "execution_count": 39,
     "metadata": {},
     "output_type": "execute_result"
    }
   ],
   "source": [
    "df['x'].skew()"
   ]
  },
  {
   "cell_type": "code",
   "execution_count": 40,
   "id": "a825becd-4ff2-4955-a8f3-0a0c60354606",
   "metadata": {},
   "outputs": [
    {
     "data": {
      "image/png": "[encoded data removed]",
      "text/plain": [
       "<Figure size 640x480 with 1 Axes>"
      ]
     },
     "metadata": {},
     "output_type": "display_data"
    }
   ],
   "source": [
    "sns.histplot(x='x', data=df)\n",
    "plt.show()"
   ]
  },
  {
   "cell_type": "code",
   "execution_count": 41,
   "id": "b72e4669-37a0-4db2-ab61-8cc3cf1a1ba7",
   "metadata": {},
   "outputs": [
    {
     "data": {
      "text/html": [
       "<div>\n",
       "<style scoped>\n",
       "    .dataframe tbody tr th:only-of-type {\n",
       "        vertical-align: middle;\n",
       "    }\n",
       "\n",
       "    .dataframe tbody tr th {\n",
       "        vertical-align: top;\n",
       "    }\n",
       "\n",
       "    .dataframe thead th {\n",
       "        text-align: right;\n",
       "    }\n",
       "</style>\n",
       "<table border=\"1\" class=\"dataframe\">\n",
       "  <thead>\n",
       "    <tr style=\"text-align: right;\">\n",
       "      <th></th>\n",
       "      <th>total_bill</th>\n",
       "      <th>tip</th>\n",
       "      <th>sex</th>\n",
       "      <th>smoker</th>\n",
       "      <th>day</th>\n",
       "      <th>time</th>\n",
       "      <th>size</th>\n",
       "    </tr>\n",
       "  </thead>\n",
       "  <tbody>\n",
       "    <tr>\n",
       "      <th>0</th>\n",
       "      <td>16.99</td>\n",
       "      <td>1.01</td>\n",
       "      <td>Female</td>\n",
       "      <td>No</td>\n",
       "      <td>Sun</td>\n",
       "      <td>Dinner</td>\n",
       "      <td>2</td>\n",
       "    </tr>\n",
       "    <tr>\n",
       "      <th>1</th>\n",
       "      <td>10.34</td>\n",
       "      <td>1.66</td>\n",
       "      <td>Male</td>\n",
       "      <td>No</td>\n",
       "      <td>Sun</td>\n",
       "      <td>Dinner</td>\n",
       "      <td>3</td>\n",
       "    </tr>\n",
       "    <tr>\n",
       "      <th>2</th>\n",
       "      <td>21.01</td>\n",
       "      <td>3.50</td>\n",
       "      <td>Male</td>\n",
       "      <td>No</td>\n",
       "      <td>Sun</td>\n",
       "      <td>Dinner</td>\n",
       "      <td>3</td>\n",
       "    </tr>\n",
       "  </tbody>\n",
       "</table>\n",
       "</div>"
      ],
      "text/plain": [
       "   total_bill   tip     sex smoker  day    time  size\n",
       "0       16.99  1.01  Female     No  Sun  Dinner     2\n",
       "1       10.34  1.66    Male     No  Sun  Dinner     3\n",
       "2       21.01  3.50    Male     No  Sun  Dinner     3"
      ]
     },
     "execution_count": 41,
     "metadata": {},
     "output_type": "execute_result"
    }
   ],
   "source": [
    "dataset=pd.read_csv(\"tips.csv\")\n",
    "dataset.head(3)"
   ]
  },
  {
   "cell_type": "code",
   "execution_count": 42,
   "id": "8e2e7ae5-1c8a-4a61-b11c-70df729912b0",
   "metadata": {},
   "outputs": [
    {
     "name": "stdout",
     "output_type": "stream",
     "text": [
      "<class 'pandas.core.frame.DataFrame'>\n",
      "RangeIndex: 244 entries, 0 to 243\n",
      "Data columns (total 7 columns):\n",
      " #   Column      Non-Null Count  Dtype  \n",
      "---  ------      --------------  -----  \n",
      " 0   total_bill  244 non-null    float64\n",
      " 1   tip         244 non-null    float64\n",
      " 2   sex         244 non-null    object \n",
      " 3   smoker      244 non-null    object \n",
      " 4   day         244 non-null    object \n",
      " 5   time        244 non-null    object \n",
      " 6   size        244 non-null    int64  \n",
      "dtypes: float64(2), int64(1), object(4)\n",
      "memory usage: 13.5+ KB\n"
     ]
    }
   ],
   "source": [
    "dataset.info()"
   ]
  },
  {
   "cell_type": "code",
   "execution_count": 43,
   "id": "ea1a917a-719c-40d0-aedc-520d2373888b",
   "metadata": {},
   "outputs": [
    {
     "data": {
      "text/plain": [
       "total_bill    0\n",
       "tip           0\n",
       "sex           0\n",
       "smoker        0\n",
       "day           0\n",
       "time          0\n",
       "size          0\n",
       "dtype: int64"
      ]
     },
     "execution_count": 43,
     "metadata": {},
     "output_type": "execute_result"
    }
   ],
   "source": [
    "dataset.isnull().sum()"
   ]
  },
  {
   "cell_type": "code",
   "execution_count": 44,
   "id": "a43a6350-195b-4f66-b336-47536c4435f7",
   "metadata": {},
   "outputs": [
    {
     "data": {
      "text/html": [
       "<div>\n",
       "<style scoped>\n",
       "    .dataframe tbody tr th:only-of-type {\n",
       "        vertical-align: middle;\n",
       "    }\n",
       "\n",
       "    .dataframe tbody tr th {\n",
       "        vertical-align: top;\n",
       "    }\n",
       "\n",
       "    .dataframe thead th {\n",
       "        text-align: right;\n",
       "    }\n",
       "</style>\n",
       "<table border=\"1\" class=\"dataframe\">\n",
       "  <thead>\n",
       "    <tr style=\"text-align: right;\">\n",
       "      <th></th>\n",
       "      <th>total_bill</th>\n",
       "      <th>tip</th>\n",
       "      <th>size</th>\n",
       "    </tr>\n",
       "  </thead>\n",
       "  <tbody>\n",
       "    <tr>\n",
       "      <th>total_bill</th>\n",
       "      <td>79.252939</td>\n",
       "      <td>8.323502</td>\n",
       "      <td>5.065983</td>\n",
       "    </tr>\n",
       "    <tr>\n",
       "      <th>tip</th>\n",
       "      <td>8.323502</td>\n",
       "      <td>1.914455</td>\n",
       "      <td>0.643906</td>\n",
       "    </tr>\n",
       "    <tr>\n",
       "      <th>size</th>\n",
       "      <td>5.065983</td>\n",
       "      <td>0.643906</td>\n",
       "      <td>0.904591</td>\n",
       "    </tr>\n",
       "  </tbody>\n",
       "</table>\n",
       "</div>"
      ],
      "text/plain": [
       "            total_bill       tip      size\n",
       "total_bill   79.252939  8.323502  5.065983\n",
       "tip           8.323502  1.914455  0.643906\n",
       "size          5.065983  0.643906  0.904591"
      ]
     },
     "execution_count": 44,
     "metadata": {},
     "output_type": "execute_result"
    }
   ],
   "source": [
    "data_cov=dataset.select_dtypes(['float64', 'int64']).cov()\n",
    "data_cov"
   ]
  },
  {
   "cell_type": "code",
   "execution_count": 45,
   "id": "d5cdf246-2be0-4924-98b3-5a1ca6542112",
   "metadata": {},
   "outputs": [
    {
     "data": {
      "text/html": [
       "<div>\n",
       "<style scoped>\n",
       "    .dataframe tbody tr th:only-of-type {\n",
       "        vertical-align: middle;\n",
       "    }\n",
       "\n",
       "    .dataframe tbody tr th {\n",
       "        vertical-align: top;\n",
       "    }\n",
       "\n",
       "    .dataframe thead th {\n",
       "        text-align: right;\n",
       "    }\n",
       "</style>\n",
       "<table border=\"1\" class=\"dataframe\">\n",
       "  <thead>\n",
       "    <tr style=\"text-align: right;\">\n",
       "      <th></th>\n",
       "      <th>total_bill</th>\n",
       "      <th>tip</th>\n",
       "      <th>size</th>\n",
       "    </tr>\n",
       "  </thead>\n",
       "  <tbody>\n",
       "    <tr>\n",
       "      <th>total_bill</th>\n",
       "      <td>1.000000</td>\n",
       "      <td>0.675734</td>\n",
       "      <td>0.598315</td>\n",
       "    </tr>\n",
       "    <tr>\n",
       "      <th>tip</th>\n",
       "      <td>0.675734</td>\n",
       "      <td>1.000000</td>\n",
       "      <td>0.489299</td>\n",
       "    </tr>\n",
       "    <tr>\n",
       "      <th>size</th>\n",
       "      <td>0.598315</td>\n",
       "      <td>0.489299</td>\n",
       "      <td>1.000000</td>\n",
       "    </tr>\n",
       "  </tbody>\n",
       "</table>\n",
       "</div>"
      ],
      "text/plain": [
       "            total_bill       tip      size\n",
       "total_bill    1.000000  0.675734  0.598315\n",
       "tip           0.675734  1.000000  0.489299\n",
       "size          0.598315  0.489299  1.000000"
      ]
     },
     "execution_count": 45,
     "metadata": {},
     "output_type": "execute_result"
    }
   ],
   "source": [
    "data_corr=dataset.select_dtypes(['float64', 'int64']).corr()\n",
    "data_corr"
   ]
  },
  {
   "cell_type": "code",
   "execution_count": 46,
   "id": "5e6bcc77-cc8e-4843-a784-118c4ecbf2b1",
   "metadata": {},
   "outputs": [
    {
     "data": {
      "image/png": "[encoded data removed]",
      "text/plain": [
       "<Figure size 400x300 with 2 Axes>"
      ]
     },
     "metadata": {},
     "output_type": "display_data"
    }
   ],
   "source": [
    "plt.figure(figsize=(4,3))\n",
    "sns.heatmap(data_cov, annot=True)\n",
    "plt.show()"
   ]
  },
  {
   "cell_type": "code",
   "execution_count": 47,
   "id": "04c84176-637d-478b-a41e-03f008f764bc",
   "metadata": {},
   "outputs": [
    {
     "data": {
      "image/png": "[encoded data removed]",
      "text/plain": [
       "<Figure size 400x300 with 2 Axes>"
      ]
     },
     "metadata": {},
     "output_type": "display_data"
    }
   ],
   "source": [
    "plt.figure(figsize=(4,3))\n",
    "sns.heatmap(data_corr, annot=True)\n",
    "plt.show()"
   ]
  },
  {
   "cell_type": "code",
   "execution_count": 48,
   "id": "dc018a08-0267-43b0-bd82-a7fd8f3924fb",
   "metadata": {},
   "outputs": [],
   "source": [
    "# CENTRAL LIMIT THEOREM\n",
    "pop_data=[np.random.randint(10,100) for i in range (10000)]\n",
    "pop_tab=pd.DataFrame({\"Pop_data\":pop_data})"
   ]
  },
  {
   "cell_type": "code",
   "execution_count": 49,
   "id": "1e62ec0c-d840-4d76-9ae7-f70fd9b7ae51",
   "metadata": {},
   "outputs": [
    {
     "data": {
      "text/plain": [
       "54.9013"
      ]
     },
     "execution_count": 49,
     "metadata": {},
     "output_type": "execute_result"
    }
   ],
   "source": [
    "np.mean(pop_tab)"
   ]
  },
  {
   "cell_type": "code",
   "execution_count": 50,
   "id": "981a90ce-ce30-47cc-a301-fd15a27d4db4",
   "metadata": {},
   "outputs": [
    {
     "data": {
      "image/png": "[encoded data removed]",
      "text/plain": [
       "<Figure size 300x200 with 1 Axes>"
      ]
     },
     "metadata": {},
     "output_type": "display_data"
    }
   ],
   "source": [
    "plt.figure(figsize=(3,2))\n",
    "sns.kdeplot(x=\"Pop_data\", data=pop_tab)\n",
    "plt.show()"
   ]
  },
  {
   "cell_type": "code",
   "execution_count": 51,
   "id": "6ccda649-26cc-4c14-9c6d-089caffdc683",
   "metadata": {},
   "outputs": [],
   "source": [
    "sample_mean=[]\n",
    "for no_sample in range(60):\n",
    "    sample_data=[]\n",
    "    for data in range(500):\n",
    "        sample_data.append(np.random.choice(pop_data))\n",
    "    sample_mean.append(np.mean(sample_data))"
   ]
  },
  {
   "cell_type": "code",
   "execution_count": 52,
   "id": "a4a28f51-6b87-47f7-a479-25a849075699",
   "metadata": {},
   "outputs": [
    {
     "data": {
      "text/plain": [
       "54.96413333333333"
      ]
     },
     "execution_count": 52,
     "metadata": {},
     "output_type": "execute_result"
    }
   ],
   "source": [
    "np.mean(sample_mean)"
   ]
  },
  {
   "cell_type": "code",
   "execution_count": 53,
   "id": "f88a6931-a856-4ceb-a0d2-391aaae2c4a7",
   "metadata": {},
   "outputs": [],
   "source": [
    "sample_M=pd.DataFrame({\"Sample_Mean\":sample_mean})"
   ]
  },
  {
   "cell_type": "code",
   "execution_count": 54,
   "id": "cb764d9a-e31a-4784-ae15-25ae4252e139",
   "metadata": {},
   "outputs": [
    {
     "data": {
      "image/png": "[encoded data removed]",
      "text/plain": [
       "<Figure size 300x200 with 1 Axes>"
      ]
     },
     "metadata": {},
     "output_type": "display_data"
    }
   ],
   "source": [
    "plt.figure(figsize=(3,2))\n",
    "sns.kdeplot(x=\"Sample_Mean\", data=sample_M)\n",
    "plt.show()"
   ]
  },
  {
   "cell_type": "code",
   "execution_count": 55,
   "id": "9f75b4ff-09cc-430e-b5d5-26693a8c8ca8",
   "metadata": {},
   "outputs": [],
   "source": [
    "#PROGRAM OF HYPOTHESIS VIA Z TEST 1....\n",
    "import scipy.stats as st"
   ]
  },
  {
   "cell_type": "code",
   "execution_count": 56,
   "id": "e794bbfe-783c-4852-bff1-9a84ac13c9e2",
   "metadata": {},
   "outputs": [],
   "source": [
    "s_x=90\n",
    "p_u=82\n",
    "p_std=20\n",
    "n=81\n",
    "ap=0.05"
   ]
  },
  {
   "cell_type": "code",
   "execution_count": 57,
   "id": "9580ad2f-051a-4395-8e28-3a28b5b4eb74",
   "metadata": {},
   "outputs": [
    {
     "data": {
      "text/plain": [
       "3.5999999999999996"
      ]
     },
     "execution_count": 57,
     "metadata": {},
     "output_type": "execute_result"
    }
   ],
   "source": [
    "z_cal=(s_x-p_u)/(p_std/np.sqrt(81))\n",
    "z_cal"
   ]
  },
  {
   "cell_type": "code",
   "execution_count": 58,
   "id": "df8e683b-d665-4d04-8f9d-a4e71122b627",
   "metadata": {},
   "outputs": [
    {
     "data": {
      "text/plain": [
       "1.6448536269514722"
      ]
     },
     "execution_count": 58,
     "metadata": {},
     "output_type": "execute_result"
    }
   ],
   "source": [
    "z_tab=st.norm.ppf(1-ap)\n",
    "z_tab"
   ]
  },
  {
   "cell_type": "code",
   "execution_count": 59,
   "id": "c7780429-17a0-46aa-8ac9-e54b216cdaa0",
   "metadata": {},
   "outputs": [
    {
     "name": "stdout",
     "output_type": "stream",
     "text": [
      "Ha is right\n"
     ]
    }
   ],
   "source": [
    "if z_tab<z_cal:\n",
    "    print(\"Ha is right\")\n",
    "else:\n",
    "    print(\"H0 is right\")"
   ]
  },
  {
   "cell_type": "code",
   "execution_count": 60,
   "id": "16d773d3-2990-41e4-978e-ffa28b8e8aaf",
   "metadata": {},
   "outputs": [
    {
     "data": {
      "text/plain": [
       "array([45.2, 42.8, 38.9, 43.5, 41. , 44.6, 40.5, 42.7, 39.8, 41.4, 44.3,\n",
       "       39.7, 42.1, 40.6, 43. , 42.2, 41.5, 39.6, 44. , 43.1, 38.7, 43.9,\n",
       "       42. , 41.9, 42.8, 43.7, 41.3, 40.9, 42.5, 41.6])"
      ]
     },
     "execution_count": 60,
     "metadata": {},
     "output_type": "execute_result"
    }
   ],
   "source": [
    "# A NEW PROGRAM START HERE\n",
    "old_design_data=np.array([45.2,42.8,38.9,43.5,41.0,44.6,40.5,42.7,39.8,41.4,44.3,39.7,42.1,40.6,43.0,42.2,41.5,39.6,44.0,43.1,38.7,43.9,42.0,41.9,42.8,43.7,41.3,40.9,42.5,41.6])\n",
    "new_design_data=np.array([48.5,49.1,50.2,47.8,48.7,49.9,48.0,50.5,49.8,49.6,48.2,48.9,49.7,50.3,49.4,50.1,48.6,48.3,49.0,50.0,48.4,49.3,49.5,48.8,50.6,50.4,48.1,49.2,50.7,50.8])\n",
    "old_design_data"
   ]
  },
  {
   "cell_type": "code",
   "execution_count": 61,
   "id": "27ec6e3f-f797-4e92-b505-c3dec2d6b3a9",
   "metadata": {},
   "outputs": [
    {
     "data": {
      "text/plain": [
       "array([48.5, 49.1, 50.2, 47.8, 48.7, 49.9, 48. , 50.5, 49.8, 49.6, 48.2,\n",
       "       48.9, 49.7, 50.3, 49.4, 50.1, 48.6, 48.3, 49. , 50. , 48.4, 49.3,\n",
       "       49.5, 48.8, 50.6, 50.4, 48.1, 49.2, 50.7, 50.8])"
      ]
     },
     "execution_count": 61,
     "metadata": {},
     "output_type": "execute_result"
    }
   ],
   "source": [
    "new_design_data"
   ]
  },
  {
   "cell_type": "code",
   "execution_count": 62,
   "id": "bd6c8fea-b7d8-4408-9c07-8878385ab4f8",
   "metadata": {},
   "outputs": [],
   "source": [
    "pop_std=2.5\n",
    "n_sp=len(new_design_data)\n",
    "apl=0.05"
   ]
  },
  {
   "cell_type": "code",
   "execution_count": 63,
   "id": "eb9cef66-97be-4b3e-8548-9b8b6857949d",
   "metadata": {},
   "outputs": [],
   "source": [
    "new_mean=np.mean(new_design_data)\n",
    "old_mean=np.mean(old_design_data)"
   ]
  },
  {
   "cell_type": "code",
   "execution_count": 64,
   "id": "7f1f3a92-f86f-4a79-8028-c2516b5e42b1",
   "metadata": {},
   "outputs": [
    {
     "data": {
      "text/plain": [
       "16.11034615808528"
      ]
     },
     "execution_count": 64,
     "metadata": {},
     "output_type": "execute_result"
    }
   ],
   "source": [
    "z_cal=(new_mean-old_mean)/(pop_std/np.sqrt(n_sp))\n",
    "z_cal"
   ]
  },
  {
   "cell_type": "code",
   "execution_count": 65,
   "id": "f03fdfe6-a823-4053-9b15-3070cdf35bc6",
   "metadata": {},
   "outputs": [
    {
     "data": {
      "text/plain": [
       "1.6448536269514722"
      ]
     },
     "execution_count": 65,
     "metadata": {},
     "output_type": "execute_result"
    }
   ],
   "source": [
    "z_tab=st.norm.ppf(1-apl)\n",
    "z_tab"
   ]
  },
  {
   "cell_type": "code",
   "execution_count": 66,
   "id": "9717fd48-974a-4a82-a063-aea9646bb46f",
   "metadata": {},
   "outputs": [
    {
     "name": "stdout",
     "output_type": "stream",
     "text": [
      "Ha is right\n"
     ]
    }
   ],
   "source": [
    "if z_cal>z_tab:\n",
    "    print(\"Ha is right\")\n",
    "else:\n",
    "    print(\"H0 is right\")"
   ]
  },
  {
   "cell_type": "code",
   "execution_count": 67,
   "id": "1a1a4548-1e0c-424e-a6be-da577e83f0d6",
   "metadata": {},
   "outputs": [],
   "source": [
    "# T TEST PRRGRAM\n",
    "X=48\n",
    "U=50\n",
    "STD=5\n",
    "LOS=0.05\n",
    "N=25"
   ]
  },
  {
   "cell_type": "code",
   "execution_count": 68,
   "id": "1d689037-2b68-435e-ae86-449ee4d42c4b",
   "metadata": {},
   "outputs": [
    {
     "data": {
      "text/plain": [
       "-1.708140761251899"
      ]
     },
     "execution_count": 68,
     "metadata": {},
     "output_type": "execute_result"
    }
   ],
   "source": [
    "t_tab=st.t.ppf(0.05,25)\n",
    "t_tab"
   ]
  },
  {
   "cell_type": "code",
   "execution_count": 69,
   "id": "ccd55110-2d9a-41c4-9513-e5c0a526d9ff",
   "metadata": {},
   "outputs": [
    {
     "data": {
      "text/plain": [
       "-2.0"
      ]
     },
     "execution_count": 69,
     "metadata": {},
     "output_type": "execute_result"
    }
   ],
   "source": [
    "t_cal=(X-U)/(STD/np.sqrt(N))\n",
    "t_cal"
   ]
  },
  {
   "cell_type": "code",
   "execution_count": 70,
   "id": "26961003-b0d9-4162-bf23-0d820b94c7a1",
   "metadata": {},
   "outputs": [
    {
     "name": "stdout",
     "output_type": "stream",
     "text": [
      "Ha is right\n"
     ]
    }
   ],
   "source": [
    "if t_cal<t_tab:\n",
    "    print(\"Ha is right\")\n",
    "else:\n",
    "    print(\"H0 is right\")"
   ]
  },
  {
   "cell_type": "code",
   "execution_count": 71,
   "id": "771b6f3a-030b-4524-91c3-2b74fad92786",
   "metadata": {},
   "outputs": [],
   "source": [
    "# AN OTHER EXAMPLE OF T TABLE\n",
    "x_a=80\n",
    "x_b=75\n",
    "a_std=5\n",
    "b_std=6\n",
    "n=20\n"
   ]
  },
  {
   "cell_type": "code",
   "execution_count": 72,
   "id": "d7d2d778-17fb-44e0-bff8-45ebd8ee8574",
   "metadata": {},
   "outputs": [
    {
     "data": {
      "text/plain": [
       "2.862991671569341"
      ]
     },
     "execution_count": 72,
     "metadata": {},
     "output_type": "execute_result"
    }
   ],
   "source": [
    "T_cal=(x_a-x_b)/np.sqrt((np.square(a_std)/n)+(np.square(b_std)/n))\n",
    "T_cal"
   ]
  },
  {
   "cell_type": "code",
   "execution_count": 73,
   "id": "341e525f-dafe-426e-b0f1-ca361e99869f",
   "metadata": {},
   "outputs": [
    {
     "data": {
      "text/plain": [
       "2.024394164575136"
      ]
     },
     "execution_count": 73,
     "metadata": {},
     "output_type": "execute_result"
    }
   ],
   "source": [
    "T_tab=st.t.ppf(1-0.025,38)\n",
    "T_tab"
   ]
  },
  {
   "cell_type": "code",
   "execution_count": 74,
   "id": "bf0e13aa-b893-4ae0-aa84-ffd3604bcbd8",
   "metadata": {},
   "outputs": [
    {
     "name": "stdout",
     "output_type": "stream",
     "text": [
      "Ha is right\n"
     ]
    }
   ],
   "source": [
    "if T_cal>T_tab:\n",
    "    print(\"Ha is right\")\n",
    "else:\n",
    "    print(\"H0 is right\")"
   ]
  },
  {
   "cell_type": "code",
   "execution_count": 75,
   "id": "b856eea9-d720-409b-bc08-d4ae3675539f",
   "metadata": {},
   "outputs": [],
   "source": [
    "# Example no 3\n",
    "Be_tra=np.array([50,60,45,65,55,70,40,75,80,65,70,60,50,55,45,75,60,50,65,70])\n",
    "Af_tra=np.array([60,70,55,75,65,80,50,85,90,70,75,65,55,60,50,80,65,55,70,75])\n"
   ]
  },
  {
   "cell_type": "code",
   "execution_count": 76,
   "id": "027c25ab-6a24-409c-8db2-8c3826ec1622",
   "metadata": {},
   "outputs": [],
   "source": [
    "M_b=np.sum(Be_tra)/len(Be_tra)\n",
    "M_a=np.sum(Af_tra)/len(Af_tra)\n",
    "std_b=np.std(Be_tra)\n",
    "std_a=np.std(Af_tra)"
   ]
  },
  {
   "cell_type": "code",
   "execution_count": 77,
   "id": "4ec7c970-0770-4b66-964f-993773429c08",
   "metadata": {},
   "outputs": [
    {
     "data": {
      "text/plain": [
       "2.093024054408263"
      ]
     },
     "execution_count": 77,
     "metadata": {},
     "output_type": "execute_result"
    }
   ],
   "source": [
    "T_Tab=st.t.ppf(1-0.025, 19)\n",
    "T_Tab"
   ]
  },
  {
   "cell_type": "code",
   "execution_count": 79,
   "id": "c91fc10e-2052-4468-9a02-8b9ee378a2e3",
   "metadata": {},
   "outputs": [
    {
     "data": {
      "text/plain": [
       "2.061200527128206"
      ]
     },
     "execution_count": 79,
     "metadata": {},
     "output_type": "execute_result"
    }
   ],
   "source": [
    "T_Cal=(M_a-M_b)/np.sqrt(((np.square(std_a)/len(Af_tra)+np.square(std_b)/len(Be_tra))))\n",
    "T_Cal"
   ]
  },
  {
   "cell_type": "code",
   "execution_count": 80,
   "id": "a5d4c380-0385-4750-bad2-fb2eacec5cf3",
   "metadata": {},
   "outputs": [
    {
     "name": "stdout",
     "output_type": "stream",
     "text": [
      "H0 is right\n"
     ]
    }
   ],
   "source": [
    "if T_Cal>T_Tab:\n",
    "    print(\"Ha is right\")\n",
    "else:\n",
    "    print(\"H0 is right\")"
   ]
  },
  {
   "cell_type": "code",
   "execution_count": 88,
   "id": "1b100f9d-9b8d-4aa6-a334-f42722975a05",
   "metadata": {},
   "outputs": [
    {
     "data": {
      "text/plain": [
       "1.070269230643285"
      ]
     },
     "execution_count": 88,
     "metadata": {},
     "output_type": "execute_result"
    }
   ],
   "source": [
    "# CHI SQUARE TEST\n",
    "# Example no 1\n",
    "chi_tab=st.chi.ppf(0.05,5)\n",
    "chi_tab"
   ]
  },
  {
   "cell_type": "code",
   "execution_count": 89,
   "id": "bb9341e2-fe7a-4e6b-8d4a-87857f0345e0",
   "metadata": {},
   "outputs": [],
   "source": [
    "obs=np.array([22,17,20,26,22,13])\n",
    "exp=np.array([20,20,20,20,20,20])"
   ]
  },
  {
   "cell_type": "code",
   "execution_count": 90,
   "id": "faa11147-a7ef-456b-9f1d-346a17a5381c",
   "metadata": {},
   "outputs": [
    {
     "data": {
      "text/plain": [
       "5.1000000000000005"
      ]
     },
     "execution_count": 90,
     "metadata": {},
     "output_type": "execute_result"
    }
   ],
   "source": [
    "chi_cal=np.sum(np.square(obs-exp)/exp)\n",
    "chi_cal"
   ]
  },
  {
   "cell_type": "code",
   "execution_count": 91,
   "id": "ff4ffea4-29a4-4e12-a764-a010b2d8e42d",
   "metadata": {},
   "outputs": [
    {
     "name": "stdout",
     "output_type": "stream",
     "text": [
      "Die is fair\n"
     ]
    }
   ],
   "source": [
    "if chi_cal>chi_tab:\n",
    "    print(\"Die is fair\")\n",
    "else:\n",
    "    print(\"Die is not fair\")"
   ]
  },
  {
   "cell_type": "code",
   "execution_count": 95,
   "id": "d76b3842-953f-4645-9914-351f5039a98e",
   "metadata": {},
   "outputs": [
    {
     "data": {
      "text/plain": [
       "0.5931663491376357"
      ]
     },
     "execution_count": 95,
     "metadata": {},
     "output_type": "execute_result"
    }
   ],
   "source": [
    "#Example NO 2\n",
    "chi_tab=st.chi.ppf(0.05,3)\n",
    "chi_tab"
   ]
  },
  {
   "cell_type": "code",
   "execution_count": 96,
   "id": "d8721e24-5da9-45c7-85ac-229fba8d7b3b",
   "metadata": {},
   "outputs": [],
   "source": [
    "row1=np.array([40,45,25,10])\n",
    "row2=np.array([35,30,20,30])"
   ]
  },
  {
   "cell_type": "code",
   "execution_count": 97,
   "id": "a30d499a-4de9-4d1f-a49d-ced94b93c8eb",
   "metadata": {},
   "outputs": [],
   "source": [
    "SumR1=np.sum(row1)\n",
    "SumR2=np.sum(row2)"
   ]
  },
  {
   "cell_type": "code",
   "execution_count": 99,
   "id": "80d4e5d4-7872-433a-930c-57363c7e3d13",
   "metadata": {},
   "outputs": [
    {
     "data": {
      "text/plain": [
       "array([120, 115])"
      ]
     },
     "execution_count": 99,
     "metadata": {},
     "output_type": "execute_result"
    }
   ],
   "source": [
    "sum_rows=np.array([SumR1, SumR2])\n",
    "sum_rows"
   ]
  },
  {
   "cell_type": "code",
   "execution_count": 100,
   "id": "76981094-286c-418c-9526-bc2de7a2c26c",
   "metadata": {},
   "outputs": [
    {
     "data": {
      "text/plain": [
       "array([75, 75, 45, 40])"
      ]
     },
     "execution_count": 100,
     "metadata": {},
     "output_type": "execute_result"
    }
   ],
   "source": [
    "sum_col=row1+row2\n",
    "sum_col"
   ]
  },
  {
   "cell_type": "code",
   "execution_count": 101,
   "id": "ebd602fa-a161-46ec-9dc2-c041c0a38844",
   "metadata": {},
   "outputs": [],
   "source": [
    "exp=[]\n",
    "for i in sum_rows:\n",
    "    for j in sum_col:\n",
    "        value=(i*j)/235\n",
    "        exp.append(value)"
   ]
  },
  {
   "cell_type": "code",
   "execution_count": 105,
   "id": "81e6b843-d0bd-46da-ac1a-0ab8ddeaa677",
   "metadata": {},
   "outputs": [
    {
     "data": {
      "text/plain": [
       "13.788747987117553"
      ]
     },
     "execution_count": 105,
     "metadata": {},
     "output_type": "execute_result"
    }
   ],
   "source": [
    "obser=np.array([40,45,25,10,35,30,20,30])\n",
    "np.sum((np.square(obser-exp))/exp)"
   ]
  },
  {
   "cell_type": "code",
   "execution_count": null,
   "id": "4d9641d0-2dfa-4f49-ae82-67d8cc331d87",
   "metadata": {},
   "outputs": [],
   "source": []
  }
 ],
 "metadata": {
  "kernelspec": {
   "display_name": "Python 3 (ipykernel)",
   "language": "python",
   "name": "python3"
  },
  "language_info": {
   "codemirror_mode": {
    "name": "ipython",
    "version": 3
   },
   "file_extension": ".py",
   "mimetype": "text/x-python",
   "name": "python",
   "nbconvert_exporter": "python",
   "pygments_lexer": "ipython3",
   "version": "3.11.5"
  }
 },
 "nbformat": 4,
 "nbformat_minor": 5
}
